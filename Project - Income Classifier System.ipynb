{
 "cells": [
  {
   "cell_type": "markdown",
   "metadata": {
    "id": "K1XBZgWBuwu_"
   },
   "source": [
    "### Project (Income Classifier System)\n",
    "\n",
    "### Problem Statement\n",
    "<ul>\n",
    "    <li>Subsidy Inc. delivers subsidies to individuals based on\n",
    "        their income.</li>\n",
    "    <li>Accurate income data is one of the hardest piece of data\n",
    "        to obtain across the world.</li>\n",
    "    <li>Subsidy Inc. has obtained a large data set of\n",
    "authenticated data on individual income, demographic\n",
    "        parameters, and a few financial parameters.</li>\n",
    "    <li>Subsidy Inc. wishes us to:\n",
    "Develop an income classifier system for individuals.</li>\n",
    "    \n",
    "</ul>\n",
    "\n",
    "### The Objective is to:\n",
    "<h6>Simplify the data system by reducing the number of variables to be studied, without sacrificing too much. Such a system would help Subsidy Inc. in planning subsidy outlay, monitoring and preventing misuse.</h6>"
   ]
  },
  {
   "cell_type": "code",
   "execution_count": 1,
   "metadata": {
    "_cell_guid": "b1076dfc-b9ad-4769-8c92-a6c4dae69d19",
    "_uuid": "8f2839f25d086af736a60e9eeb907d3b93b6e0e5",
    "execution": {
     "iopub.execute_input": "2022-03-10T07:04:07.262416Z",
     "iopub.status.busy": "2022-03-10T07:04:07.261697Z",
     "iopub.status.idle": "2022-03-10T07:04:08.430021Z",
     "shell.execute_reply": "2022-03-10T07:04:08.430680Z",
     "shell.execute_reply.started": "2022-03-10T05:21:01.721326Z"
    },
    "id": "0fc7e7a3",
    "papermill": {
     "duration": 1.255737,
     "end_time": "2022-03-10T07:04:08.431013",
     "exception": false,
     "start_time": "2022-03-10T07:04:07.175276",
     "status": "completed"
    },
    "tags": []
   },
   "outputs": [],
   "source": [
    "import pandas as pd  # To work with dataframes\n",
    "import numpy as np # To perform numerical operations\n",
    "import seaborn as sns # To visualize data\n",
    "import matplotlib.pyplot as plt # To visualize data\n",
    "from sklearn.model_selection import train_test_split # To partition the data\n",
    "from sklearn.linear_model import LogisticRegression # importing the library of LogisticRegression\n",
    "from sklearn.neighbors import KNeighborsClassifier  # importing the library of KNN\n",
    "from sklearn.metrics import accuracy_score,confusion_matrix # Importing performance metrics - accuracy score & confusion matrix\n",
    "from sklearn.metrics import confusion_matrix ,ConfusionMatrixDisplay\n",
    "# The libraries & modules which we are going to use in our study:\n",
    "from sklearn import preprocessing\n",
    "from sklearn import metrics\n",
    "from sklearn.tree import DecisionTreeClassifier\n",
    "from sklearn.ensemble import RandomForestClassifier\n",
    "from sklearn.neighbors import KNeighborsClassifier  \n",
    "from sklearn.metrics import classification_report, confusion_matrix, accuracy_score \n",
    "import matplotlib.pyplot as plt\n",
    "%matplotlib inline\n",
    "import seaborn as sns\n"
   ]
  },
  {
   "cell_type": "code",
   "execution_count": 2,
   "metadata": {
    "id": "cYOuAh-hC-MU"
   },
   "outputs": [],
   "source": [
    "df = pd.read_csv(r\"D:\\jupyter Notebook\\income(1).csv\",na_values=[\"?\"])"
   ]
  },
  {
   "cell_type": "code",
   "execution_count": 3,
   "metadata": {
    "colab": {
     "base_uri": "https://localhost:8080/",
     "height": 337
    },
    "id": "AAeO1Sz2lHK9",
    "outputId": "8693a671-023f-4c73-d428-7f55f144ad67"
   },
   "outputs": [
    {
     "data": {
      "text/html": [
       "<div>\n",
       "<style scoped>\n",
       "    .dataframe tbody tr th:only-of-type {\n",
       "        vertical-align: middle;\n",
       "    }\n",
       "\n",
       "    .dataframe tbody tr th {\n",
       "        vertical-align: top;\n",
       "    }\n",
       "\n",
       "    .dataframe thead th {\n",
       "        text-align: right;\n",
       "    }\n",
       "</style>\n",
       "<table border=\"1\" class=\"dataframe\">\n",
       "  <thead>\n",
       "    <tr style=\"text-align: right;\">\n",
       "      <th></th>\n",
       "      <th>age</th>\n",
       "      <th>JobType</th>\n",
       "      <th>EdType</th>\n",
       "      <th>maritalstatus</th>\n",
       "      <th>occupation</th>\n",
       "      <th>relationship</th>\n",
       "      <th>race</th>\n",
       "      <th>gender</th>\n",
       "      <th>capitalgain</th>\n",
       "      <th>capitalloss</th>\n",
       "      <th>hoursperweek</th>\n",
       "      <th>nativecountry</th>\n",
       "      <th>SalStat</th>\n",
       "    </tr>\n",
       "  </thead>\n",
       "  <tbody>\n",
       "    <tr>\n",
       "      <th>0</th>\n",
       "      <td>45</td>\n",
       "      <td>Private</td>\n",
       "      <td>HS-grad</td>\n",
       "      <td>Divorced</td>\n",
       "      <td>Adm-clerical</td>\n",
       "      <td>Not-in-family</td>\n",
       "      <td>White</td>\n",
       "      <td>Female</td>\n",
       "      <td>0</td>\n",
       "      <td>0</td>\n",
       "      <td>28</td>\n",
       "      <td>United-States</td>\n",
       "      <td>less than or equal to 50,000</td>\n",
       "    </tr>\n",
       "    <tr>\n",
       "      <th>1</th>\n",
       "      <td>24</td>\n",
       "      <td>Federal-gov</td>\n",
       "      <td>HS-grad</td>\n",
       "      <td>Never-married</td>\n",
       "      <td>Armed-Forces</td>\n",
       "      <td>Own-child</td>\n",
       "      <td>White</td>\n",
       "      <td>Male</td>\n",
       "      <td>0</td>\n",
       "      <td>0</td>\n",
       "      <td>40</td>\n",
       "      <td>United-States</td>\n",
       "      <td>less than or equal to 50,000</td>\n",
       "    </tr>\n",
       "    <tr>\n",
       "      <th>2</th>\n",
       "      <td>44</td>\n",
       "      <td>Private</td>\n",
       "      <td>Some-college</td>\n",
       "      <td>Married-civ-spouse</td>\n",
       "      <td>Prof-specialty</td>\n",
       "      <td>Husband</td>\n",
       "      <td>White</td>\n",
       "      <td>Male</td>\n",
       "      <td>0</td>\n",
       "      <td>0</td>\n",
       "      <td>40</td>\n",
       "      <td>United-States</td>\n",
       "      <td>greater than 50,000</td>\n",
       "    </tr>\n",
       "    <tr>\n",
       "      <th>3</th>\n",
       "      <td>27</td>\n",
       "      <td>Private</td>\n",
       "      <td>9th</td>\n",
       "      <td>Never-married</td>\n",
       "      <td>Craft-repair</td>\n",
       "      <td>Other-relative</td>\n",
       "      <td>White</td>\n",
       "      <td>Male</td>\n",
       "      <td>0</td>\n",
       "      <td>0</td>\n",
       "      <td>40</td>\n",
       "      <td>Mexico</td>\n",
       "      <td>less than or equal to 50,000</td>\n",
       "    </tr>\n",
       "    <tr>\n",
       "      <th>4</th>\n",
       "      <td>20</td>\n",
       "      <td>Private</td>\n",
       "      <td>Some-college</td>\n",
       "      <td>Never-married</td>\n",
       "      <td>Sales</td>\n",
       "      <td>Not-in-family</td>\n",
       "      <td>White</td>\n",
       "      <td>Male</td>\n",
       "      <td>0</td>\n",
       "      <td>0</td>\n",
       "      <td>35</td>\n",
       "      <td>United-States</td>\n",
       "      <td>less than or equal to 50,000</td>\n",
       "    </tr>\n",
       "  </tbody>\n",
       "</table>\n",
       "</div>"
      ],
      "text/plain": [
       "   age       JobType         EdType        maritalstatus       occupation  \\\n",
       "0   45       Private        HS-grad             Divorced     Adm-clerical   \n",
       "1   24   Federal-gov        HS-grad        Never-married     Armed-Forces   \n",
       "2   44       Private   Some-college   Married-civ-spouse   Prof-specialty   \n",
       "3   27       Private            9th        Never-married     Craft-repair   \n",
       "4   20       Private   Some-college        Never-married            Sales   \n",
       "\n",
       "      relationship    race   gender  capitalgain  capitalloss  hoursperweek  \\\n",
       "0    Not-in-family   White   Female            0            0            28   \n",
       "1        Own-child   White     Male            0            0            40   \n",
       "2          Husband   White     Male            0            0            40   \n",
       "3   Other-relative   White     Male            0            0            40   \n",
       "4    Not-in-family   White     Male            0            0            35   \n",
       "\n",
       "    nativecountry                        SalStat  \n",
       "0   United-States   less than or equal to 50,000  \n",
       "1   United-States   less than or equal to 50,000  \n",
       "2   United-States            greater than 50,000  \n",
       "3          Mexico   less than or equal to 50,000  \n",
       "4   United-States   less than or equal to 50,000  "
      ]
     },
     "execution_count": 3,
     "metadata": {},
     "output_type": "execute_result"
    }
   ],
   "source": [
    "df.head()"
   ]
  },
  {
   "cell_type": "code",
   "execution_count": 4,
   "metadata": {
    "colab": {
     "base_uri": "https://localhost:8080/"
    },
    "id": "3bHZttsalQo7",
    "outputId": "4e84c882-bab6-43c4-d97d-c27eac10d29b"
   },
   "outputs": [
    {
     "name": "stdout",
     "output_type": "stream",
     "text": [
      "<class 'pandas.core.frame.DataFrame'>\n",
      "RangeIndex: 31978 entries, 0 to 31977\n",
      "Data columns (total 13 columns):\n",
      " #   Column         Non-Null Count  Dtype \n",
      "---  ------         --------------  ----- \n",
      " 0   age            31978 non-null  int64 \n",
      " 1   JobType        30169 non-null  object\n",
      " 2   EdType         31978 non-null  object\n",
      " 3   maritalstatus  31978 non-null  object\n",
      " 4   occupation     30162 non-null  object\n",
      " 5   relationship   31978 non-null  object\n",
      " 6   race           31978 non-null  object\n",
      " 7   gender         31978 non-null  object\n",
      " 8   capitalgain    31978 non-null  int64 \n",
      " 9   capitalloss    31978 non-null  int64 \n",
      " 10  hoursperweek   31978 non-null  int64 \n",
      " 11  nativecountry  31978 non-null  object\n",
      " 12  SalStat        31978 non-null  object\n",
      "dtypes: int64(4), object(9)\n",
      "memory usage: 3.2+ MB\n"
     ]
    }
   ],
   "source": [
    "df.info()"
   ]
  },
  {
   "cell_type": "code",
   "execution_count": 5,
   "metadata": {
    "colab": {
     "base_uri": "https://localhost:8080/"
    },
    "id": "1mxetX_pln0f",
    "outputId": "d58ad004-3634-4e8d-c6e0-ab1e36596187"
   },
   "outputs": [
    {
     "data": {
      "text/plain": [
       "(31978, 13)"
      ]
     },
     "execution_count": 5,
     "metadata": {},
     "output_type": "execute_result"
    }
   ],
   "source": [
    "df.shape"
   ]
  },
  {
   "cell_type": "code",
   "execution_count": 6,
   "metadata": {
    "colab": {
     "base_uri": "https://localhost:8080/",
     "height": 300
    },
    "id": "TploGQy-lpc6",
    "outputId": "c598a594-da43-4d71-f0e0-819bf4949776"
   },
   "outputs": [
    {
     "data": {
      "text/html": [
       "<div>\n",
       "<style scoped>\n",
       "    .dataframe tbody tr th:only-of-type {\n",
       "        vertical-align: middle;\n",
       "    }\n",
       "\n",
       "    .dataframe tbody tr th {\n",
       "        vertical-align: top;\n",
       "    }\n",
       "\n",
       "    .dataframe thead th {\n",
       "        text-align: right;\n",
       "    }\n",
       "</style>\n",
       "<table border=\"1\" class=\"dataframe\">\n",
       "  <thead>\n",
       "    <tr style=\"text-align: right;\">\n",
       "      <th></th>\n",
       "      <th>age</th>\n",
       "      <th>capitalgain</th>\n",
       "      <th>capitalloss</th>\n",
       "      <th>hoursperweek</th>\n",
       "    </tr>\n",
       "  </thead>\n",
       "  <tbody>\n",
       "    <tr>\n",
       "      <th>count</th>\n",
       "      <td>31978.000000</td>\n",
       "      <td>31978.000000</td>\n",
       "      <td>31978.000000</td>\n",
       "      <td>31978.000000</td>\n",
       "    </tr>\n",
       "    <tr>\n",
       "      <th>mean</th>\n",
       "      <td>38.579023</td>\n",
       "      <td>1064.360623</td>\n",
       "      <td>86.739352</td>\n",
       "      <td>40.417850</td>\n",
       "    </tr>\n",
       "    <tr>\n",
       "      <th>std</th>\n",
       "      <td>13.662085</td>\n",
       "      <td>7298.596271</td>\n",
       "      <td>401.594301</td>\n",
       "      <td>12.345285</td>\n",
       "    </tr>\n",
       "    <tr>\n",
       "      <th>min</th>\n",
       "      <td>17.000000</td>\n",
       "      <td>0.000000</td>\n",
       "      <td>0.000000</td>\n",
       "      <td>1.000000</td>\n",
       "    </tr>\n",
       "    <tr>\n",
       "      <th>25%</th>\n",
       "      <td>28.000000</td>\n",
       "      <td>0.000000</td>\n",
       "      <td>0.000000</td>\n",
       "      <td>40.000000</td>\n",
       "    </tr>\n",
       "    <tr>\n",
       "      <th>50%</th>\n",
       "      <td>37.000000</td>\n",
       "      <td>0.000000</td>\n",
       "      <td>0.000000</td>\n",
       "      <td>40.000000</td>\n",
       "    </tr>\n",
       "    <tr>\n",
       "      <th>75%</th>\n",
       "      <td>48.000000</td>\n",
       "      <td>0.000000</td>\n",
       "      <td>0.000000</td>\n",
       "      <td>45.000000</td>\n",
       "    </tr>\n",
       "    <tr>\n",
       "      <th>max</th>\n",
       "      <td>90.000000</td>\n",
       "      <td>99999.000000</td>\n",
       "      <td>4356.000000</td>\n",
       "      <td>99.000000</td>\n",
       "    </tr>\n",
       "  </tbody>\n",
       "</table>\n",
       "</div>"
      ],
      "text/plain": [
       "                age   capitalgain   capitalloss  hoursperweek\n",
       "count  31978.000000  31978.000000  31978.000000  31978.000000\n",
       "mean      38.579023   1064.360623     86.739352     40.417850\n",
       "std       13.662085   7298.596271    401.594301     12.345285\n",
       "min       17.000000      0.000000      0.000000      1.000000\n",
       "25%       28.000000      0.000000      0.000000     40.000000\n",
       "50%       37.000000      0.000000      0.000000     40.000000\n",
       "75%       48.000000      0.000000      0.000000     45.000000\n",
       "max       90.000000  99999.000000   4356.000000     99.000000"
      ]
     },
     "execution_count": 6,
     "metadata": {},
     "output_type": "execute_result"
    }
   ],
   "source": [
    "df.describe()"
   ]
  },
  {
   "cell_type": "code",
   "execution_count": 7,
   "metadata": {
    "colab": {
     "base_uri": "https://localhost:8080/",
     "height": 175
    },
    "execution": {
     "iopub.execute_input": "2022-03-10T07:04:09.604746Z",
     "iopub.status.busy": "2022-03-10T07:04:09.603913Z",
     "iopub.status.idle": "2022-03-10T07:04:09.708722Z",
     "shell.execute_reply": "2022-03-10T07:04:09.709234Z",
     "shell.execute_reply.started": "2022-03-10T05:50:28.158044Z"
    },
    "id": "80553c1f",
    "outputId": "ad2c9f2c-2725-425a-c46b-e6c12ffec750",
    "papermill": {
     "duration": 0.184691,
     "end_time": "2022-03-10T07:04:09.709425",
     "exception": false,
     "start_time": "2022-03-10T07:04:09.524734",
     "status": "completed"
    },
    "tags": []
   },
   "outputs": [
    {
     "data": {
      "text/html": [
       "<div>\n",
       "<style scoped>\n",
       "    .dataframe tbody tr th:only-of-type {\n",
       "        vertical-align: middle;\n",
       "    }\n",
       "\n",
       "    .dataframe tbody tr th {\n",
       "        vertical-align: top;\n",
       "    }\n",
       "\n",
       "    .dataframe thead th {\n",
       "        text-align: right;\n",
       "    }\n",
       "</style>\n",
       "<table border=\"1\" class=\"dataframe\">\n",
       "  <thead>\n",
       "    <tr style=\"text-align: right;\">\n",
       "      <th></th>\n",
       "      <th>JobType</th>\n",
       "      <th>EdType</th>\n",
       "      <th>maritalstatus</th>\n",
       "      <th>occupation</th>\n",
       "      <th>relationship</th>\n",
       "      <th>race</th>\n",
       "      <th>gender</th>\n",
       "      <th>nativecountry</th>\n",
       "      <th>SalStat</th>\n",
       "    </tr>\n",
       "  </thead>\n",
       "  <tbody>\n",
       "    <tr>\n",
       "      <th>count</th>\n",
       "      <td>30169</td>\n",
       "      <td>31978</td>\n",
       "      <td>31978</td>\n",
       "      <td>30162</td>\n",
       "      <td>31978</td>\n",
       "      <td>31978</td>\n",
       "      <td>31978</td>\n",
       "      <td>31978</td>\n",
       "      <td>31978</td>\n",
       "    </tr>\n",
       "    <tr>\n",
       "      <th>unique</th>\n",
       "      <td>8</td>\n",
       "      <td>16</td>\n",
       "      <td>7</td>\n",
       "      <td>14</td>\n",
       "      <td>6</td>\n",
       "      <td>5</td>\n",
       "      <td>2</td>\n",
       "      <td>41</td>\n",
       "      <td>2</td>\n",
       "    </tr>\n",
       "    <tr>\n",
       "      <th>top</th>\n",
       "      <td>Private</td>\n",
       "      <td>HS-grad</td>\n",
       "      <td>Married-civ-spouse</td>\n",
       "      <td>Prof-specialty</td>\n",
       "      <td>Husband</td>\n",
       "      <td>White</td>\n",
       "      <td>Male</td>\n",
       "      <td>United-States</td>\n",
       "      <td>less than or equal to 50,000</td>\n",
       "    </tr>\n",
       "    <tr>\n",
       "      <th>freq</th>\n",
       "      <td>22286</td>\n",
       "      <td>10368</td>\n",
       "      <td>14692</td>\n",
       "      <td>4038</td>\n",
       "      <td>12947</td>\n",
       "      <td>27430</td>\n",
       "      <td>21370</td>\n",
       "      <td>29170</td>\n",
       "      <td>24283</td>\n",
       "    </tr>\n",
       "  </tbody>\n",
       "</table>\n",
       "</div>"
      ],
      "text/plain": [
       "         JobType    EdType        maritalstatus       occupation relationship  \\\n",
       "count      30169     31978                31978            30162        31978   \n",
       "unique         8        16                    7               14            6   \n",
       "top      Private   HS-grad   Married-civ-spouse   Prof-specialty      Husband   \n",
       "freq       22286     10368                14692             4038        12947   \n",
       "\n",
       "          race gender   nativecountry                        SalStat  \n",
       "count    31978  31978           31978                          31978  \n",
       "unique       5      2              41                              2  \n",
       "top      White   Male   United-States   less than or equal to 50,000  \n",
       "freq     27430  21370           29170                          24283  "
      ]
     },
     "execution_count": 7,
     "metadata": {},
     "output_type": "execute_result"
    }
   ],
   "source": [
    "# for categorical variables\n",
    "\n",
    "df.describe(include =\"O\")"
   ]
  },
  {
   "cell_type": "code",
   "execution_count": 8,
   "metadata": {
    "colab": {
     "base_uri": "https://localhost:8080/"
    },
    "id": "tqJQit_MosGT",
    "outputId": "9a634ad6-6f26-40b9-9a32-12668d474a7f"
   },
   "outputs": [
    {
     "data": {
      "text/plain": [
       "age                 0\n",
       "JobType          1809\n",
       "EdType              0\n",
       "maritalstatus       0\n",
       "occupation       1816\n",
       "relationship        0\n",
       "race                0\n",
       "gender              0\n",
       "capitalgain         0\n",
       "capitalloss         0\n",
       "hoursperweek        0\n",
       "nativecountry       0\n",
       "SalStat             0\n",
       "dtype: int64"
      ]
     },
     "execution_count": 8,
     "metadata": {},
     "output_type": "execute_result"
    }
   ],
   "source": [
    "df.isnull().sum()"
   ]
  },
  {
   "cell_type": "code",
   "execution_count": 9,
   "metadata": {
    "colab": {
     "base_uri": "https://localhost:8080/"
    },
    "id": "NRaAQE7bEGjE",
    "outputId": "496c82fc-dbca-43d8-f7ba-b9a67d1bd9f9"
   },
   "outputs": [
    {
     "data": {
      "text/plain": [
       " Private             22286\n",
       " Self-emp-not-inc     2499\n",
       " Local-gov            2067\n",
       " State-gov            1279\n",
       " Self-emp-inc         1074\n",
       " Federal-gov           943\n",
       " Without-pay            14\n",
       " Never-worked            7\n",
       "Name: JobType, dtype: int64"
      ]
     },
     "execution_count": 9,
     "metadata": {},
     "output_type": "execute_result"
    }
   ],
   "source": [
    "df['JobType'].value_counts()"
   ]
  },
  {
   "cell_type": "code",
   "execution_count": 10,
   "metadata": {
    "colab": {
     "base_uri": "https://localhost:8080/"
    },
    "execution": {
     "iopub.execute_input": "2022-03-10T07:04:10.048395Z",
     "iopub.status.busy": "2022-03-10T07:04:10.047709Z",
     "iopub.status.idle": "2022-03-10T07:04:10.059392Z",
     "shell.execute_reply": "2022-03-10T07:04:10.060068Z",
     "shell.execute_reply.started": "2022-03-10T05:55:13.681010Z"
    },
    "id": "89f89a6d",
    "outputId": "63f56b10-e3f1-4016-b852-0d5e7675a75d",
    "papermill": {
     "duration": 0.090863,
     "end_time": "2022-03-10T07:04:10.060251",
     "exception": false,
     "start_time": "2022-03-10T07:04:09.969388",
     "status": "completed"
    },
    "tags": []
   },
   "outputs": [
    {
     "data": {
      "text/plain": [
       " Prof-specialty       4038\n",
       " Craft-repair         4030\n",
       " Exec-managerial      3992\n",
       " Adm-clerical         3721\n",
       " Sales                3584\n",
       " Other-service        3212\n",
       " Machine-op-inspct    1966\n",
       " Transport-moving     1572\n",
       " Handlers-cleaners    1350\n",
       " Farming-fishing       989\n",
       " Tech-support          912\n",
       " Protective-serv       644\n",
       " Priv-house-serv       143\n",
       " Armed-Forces            9\n",
       "Name: occupation, dtype: int64"
      ]
     },
     "execution_count": 10,
     "metadata": {},
     "output_type": "execute_result"
    }
   ],
   "source": [
    "df['occupation'].value_counts()"
   ]
  },
  {
   "cell_type": "code",
   "execution_count": 11,
   "metadata": {
    "colab": {
     "base_uri": "https://localhost:8080/",
     "height": 337
    },
    "id": "xopfKnE5Glqk",
    "outputId": "3ede3f50-8b11-4ab7-f42a-c22054c9c95a"
   },
   "outputs": [
    {
     "data": {
      "text/html": [
       "<div>\n",
       "<style scoped>\n",
       "    .dataframe tbody tr th:only-of-type {\n",
       "        vertical-align: middle;\n",
       "    }\n",
       "\n",
       "    .dataframe tbody tr th {\n",
       "        vertical-align: top;\n",
       "    }\n",
       "\n",
       "    .dataframe thead th {\n",
       "        text-align: right;\n",
       "    }\n",
       "</style>\n",
       "<table border=\"1\" class=\"dataframe\">\n",
       "  <thead>\n",
       "    <tr style=\"text-align: right;\">\n",
       "      <th></th>\n",
       "      <th>age</th>\n",
       "      <th>JobType</th>\n",
       "      <th>EdType</th>\n",
       "      <th>maritalstatus</th>\n",
       "      <th>occupation</th>\n",
       "      <th>relationship</th>\n",
       "      <th>race</th>\n",
       "      <th>gender</th>\n",
       "      <th>capitalgain</th>\n",
       "      <th>capitalloss</th>\n",
       "      <th>hoursperweek</th>\n",
       "      <th>nativecountry</th>\n",
       "      <th>SalStat</th>\n",
       "    </tr>\n",
       "  </thead>\n",
       "  <tbody>\n",
       "    <tr>\n",
       "      <th>0</th>\n",
       "      <td>45</td>\n",
       "      <td>Private</td>\n",
       "      <td>HS-grad</td>\n",
       "      <td>Divorced</td>\n",
       "      <td>Adm-clerical</td>\n",
       "      <td>Not-in-family</td>\n",
       "      <td>White</td>\n",
       "      <td>Female</td>\n",
       "      <td>0</td>\n",
       "      <td>0</td>\n",
       "      <td>28</td>\n",
       "      <td>United-States</td>\n",
       "      <td>less than or equal to 50,000</td>\n",
       "    </tr>\n",
       "    <tr>\n",
       "      <th>1</th>\n",
       "      <td>24</td>\n",
       "      <td>Federal-gov</td>\n",
       "      <td>HS-grad</td>\n",
       "      <td>Never-married</td>\n",
       "      <td>Armed-Forces</td>\n",
       "      <td>Own-child</td>\n",
       "      <td>White</td>\n",
       "      <td>Male</td>\n",
       "      <td>0</td>\n",
       "      <td>0</td>\n",
       "      <td>40</td>\n",
       "      <td>United-States</td>\n",
       "      <td>less than or equal to 50,000</td>\n",
       "    </tr>\n",
       "    <tr>\n",
       "      <th>2</th>\n",
       "      <td>44</td>\n",
       "      <td>Private</td>\n",
       "      <td>Some-college</td>\n",
       "      <td>Married-civ-spouse</td>\n",
       "      <td>Prof-specialty</td>\n",
       "      <td>Husband</td>\n",
       "      <td>White</td>\n",
       "      <td>Male</td>\n",
       "      <td>0</td>\n",
       "      <td>0</td>\n",
       "      <td>40</td>\n",
       "      <td>United-States</td>\n",
       "      <td>greater than 50,000</td>\n",
       "    </tr>\n",
       "    <tr>\n",
       "      <th>3</th>\n",
       "      <td>27</td>\n",
       "      <td>Private</td>\n",
       "      <td>9th</td>\n",
       "      <td>Never-married</td>\n",
       "      <td>Craft-repair</td>\n",
       "      <td>Other-relative</td>\n",
       "      <td>White</td>\n",
       "      <td>Male</td>\n",
       "      <td>0</td>\n",
       "      <td>0</td>\n",
       "      <td>40</td>\n",
       "      <td>Mexico</td>\n",
       "      <td>less than or equal to 50,000</td>\n",
       "    </tr>\n",
       "    <tr>\n",
       "      <th>4</th>\n",
       "      <td>20</td>\n",
       "      <td>Private</td>\n",
       "      <td>Some-college</td>\n",
       "      <td>Never-married</td>\n",
       "      <td>Sales</td>\n",
       "      <td>Not-in-family</td>\n",
       "      <td>White</td>\n",
       "      <td>Male</td>\n",
       "      <td>0</td>\n",
       "      <td>0</td>\n",
       "      <td>35</td>\n",
       "      <td>United-States</td>\n",
       "      <td>less than or equal to 50,000</td>\n",
       "    </tr>\n",
       "  </tbody>\n",
       "</table>\n",
       "</div>"
      ],
      "text/plain": [
       "   age       JobType         EdType        maritalstatus       occupation  \\\n",
       "0   45       Private        HS-grad             Divorced     Adm-clerical   \n",
       "1   24   Federal-gov        HS-grad        Never-married     Armed-Forces   \n",
       "2   44       Private   Some-college   Married-civ-spouse   Prof-specialty   \n",
       "3   27       Private            9th        Never-married     Craft-repair   \n",
       "4   20       Private   Some-college        Never-married            Sales   \n",
       "\n",
       "      relationship    race   gender  capitalgain  capitalloss  hoursperweek  \\\n",
       "0    Not-in-family   White   Female            0            0            28   \n",
       "1        Own-child   White     Male            0            0            40   \n",
       "2          Husband   White     Male            0            0            40   \n",
       "3   Other-relative   White     Male            0            0            40   \n",
       "4    Not-in-family   White     Male            0            0            35   \n",
       "\n",
       "    nativecountry                        SalStat  \n",
       "0   United-States   less than or equal to 50,000  \n",
       "1   United-States   less than or equal to 50,000  \n",
       "2   United-States            greater than 50,000  \n",
       "3          Mexico   less than or equal to 50,000  \n",
       "4   United-States   less than or equal to 50,000  "
      ]
     },
     "execution_count": 11,
     "metadata": {},
     "output_type": "execute_result"
    }
   ],
   "source": [
    "missing_rows = df[df.isnull().any(axis=1)]\n",
    "df1=df.dropna()\n",
    "df1.head()"
   ]
  },
  {
   "cell_type": "code",
   "execution_count": 12,
   "metadata": {
    "colab": {
     "base_uri": "https://localhost:8080/"
    },
    "id": "lqeim4YKHe8F",
    "outputId": "7847b298-9fe9-472f-c464-5743c1e18f84"
   },
   "outputs": [
    {
     "data": {
      "text/plain": [
       "age              0\n",
       "JobType          0\n",
       "EdType           0\n",
       "maritalstatus    0\n",
       "occupation       0\n",
       "relationship     0\n",
       "race             0\n",
       "gender           0\n",
       "capitalgain      0\n",
       "capitalloss      0\n",
       "hoursperweek     0\n",
       "nativecountry    0\n",
       "SalStat          0\n",
       "dtype: int64"
      ]
     },
     "execution_count": 12,
     "metadata": {},
     "output_type": "execute_result"
    }
   ],
   "source": [
    "df1.isnull().sum()"
   ]
  },
  {
   "cell_type": "code",
   "execution_count": 13,
   "metadata": {
    "colab": {
     "base_uri": "https://localhost:8080/",
     "height": 175
    },
    "id": "EQYGCv7UpI1Z",
    "outputId": "cf5d82b4-d31b-4166-e634-6ac8d0fb083d"
   },
   "outputs": [
    {
     "data": {
      "text/html": [
       "<div>\n",
       "<style scoped>\n",
       "    .dataframe tbody tr th:only-of-type {\n",
       "        vertical-align: middle;\n",
       "    }\n",
       "\n",
       "    .dataframe tbody tr th {\n",
       "        vertical-align: top;\n",
       "    }\n",
       "\n",
       "    .dataframe thead th {\n",
       "        text-align: right;\n",
       "    }\n",
       "</style>\n",
       "<table border=\"1\" class=\"dataframe\">\n",
       "  <thead>\n",
       "    <tr style=\"text-align: right;\">\n",
       "      <th></th>\n",
       "      <th>age</th>\n",
       "      <th>capitalgain</th>\n",
       "      <th>capitalloss</th>\n",
       "      <th>hoursperweek</th>\n",
       "    </tr>\n",
       "  </thead>\n",
       "  <tbody>\n",
       "    <tr>\n",
       "      <th>age</th>\n",
       "      <td>1.000000</td>\n",
       "      <td>0.077490</td>\n",
       "      <td>0.057282</td>\n",
       "      <td>0.068299</td>\n",
       "    </tr>\n",
       "    <tr>\n",
       "      <th>capitalgain</th>\n",
       "      <td>0.077490</td>\n",
       "      <td>1.000000</td>\n",
       "      <td>-0.031499</td>\n",
       "      <td>0.079112</td>\n",
       "    </tr>\n",
       "    <tr>\n",
       "      <th>capitalloss</th>\n",
       "      <td>0.057282</td>\n",
       "      <td>-0.031499</td>\n",
       "      <td>1.000000</td>\n",
       "      <td>0.053106</td>\n",
       "    </tr>\n",
       "    <tr>\n",
       "      <th>hoursperweek</th>\n",
       "      <td>0.068299</td>\n",
       "      <td>0.079112</td>\n",
       "      <td>0.053106</td>\n",
       "      <td>1.000000</td>\n",
       "    </tr>\n",
       "  </tbody>\n",
       "</table>\n",
       "</div>"
      ],
      "text/plain": [
       "                   age  capitalgain  capitalloss  hoursperweek\n",
       "age           1.000000     0.077490     0.057282      0.068299\n",
       "capitalgain   0.077490     1.000000    -0.031499      0.079112\n",
       "capitalloss   0.057282    -0.031499     1.000000      0.053106\n",
       "hoursperweek  0.068299     0.079112     0.053106      1.000000"
      ]
     },
     "execution_count": 13,
     "metadata": {},
     "output_type": "execute_result"
    }
   ],
   "source": [
    "# Realtionship between independent variables\n",
    "\n",
    "correlation =  df.corr()\n",
    "correlation"
   ]
  },
  {
   "cell_type": "code",
   "execution_count": 14,
   "metadata": {
    "colab": {
     "base_uri": "https://localhost:8080/"
    },
    "execution": {
     "iopub.execute_input": "2022-03-10T07:04:11.002278Z",
     "iopub.status.busy": "2022-03-10T07:04:11.001575Z",
     "iopub.status.idle": "2022-03-10T07:04:11.036802Z",
     "shell.execute_reply": "2022-03-10T07:04:11.037450Z",
     "shell.execute_reply.started": "2022-03-10T06:03:40.871657Z"
    },
    "id": "aa02c6e4",
    "outputId": "b925c54c-e20b-4298-e915-8a9d3479aafe",
    "papermill": {
     "duration": 0.117406,
     "end_time": "2022-03-10T07:04:11.037659",
     "exception": false,
     "start_time": "2022-03-10T07:04:10.920253",
     "status": "completed"
    },
    "tags": []
   },
   "outputs": [
    {
     "data": {
      "text/plain": [
       " Male      21370\n",
       " Female    10608\n",
       "Name: gender, dtype: int64"
      ]
     },
     "execution_count": 14,
     "metadata": {},
     "output_type": "execute_result"
    }
   ],
   "source": [
    "df['gender'].value_counts()"
   ]
  },
  {
   "cell_type": "code",
   "execution_count": 15,
   "metadata": {
    "colab": {
     "base_uri": "https://localhost:8080/"
    },
    "execution": {
     "iopub.execute_input": "2022-03-10T07:04:11.204498Z",
     "iopub.status.busy": "2022-03-10T07:04:11.203398Z",
     "iopub.status.idle": "2022-03-10T07:04:11.280129Z",
     "shell.execute_reply": "2022-03-10T07:04:11.279497Z",
     "shell.execute_reply.started": "2022-03-10T06:04:05.116247Z"
    },
    "id": "9621d957",
    "outputId": "7ac2baa1-0868-4ed8-b38e-8a0cb8482dbe",
    "papermill": {
     "duration": 0.163069,
     "end_time": "2022-03-10T07:04:11.280280",
     "exception": false,
     "start_time": "2022-03-10T07:04:11.117211",
     "status": "completed"
    },
    "tags": []
   },
   "outputs": [
    {
     "data": {
      "text/plain": [
       " less than or equal to 50,000    24283\n",
       " greater than 50,000              7695\n",
       "Name: SalStat, dtype: int64"
      ]
     },
     "execution_count": 15,
     "metadata": {},
     "output_type": "execute_result"
    }
   ],
   "source": [
    "df['SalStat'].value_counts()"
   ]
  },
  {
   "cell_type": "code",
   "execution_count": 16,
   "metadata": {
    "colab": {
     "base_uri": "https://localhost:8080/"
    },
    "id": "42f8fa86",
    "outputId": "0eb06cc3-d783-4c06-b0f2-e647f977b549"
   },
   "outputs": [
    {
     "data": {
      "text/plain": [
       "gender   SalStat                      \n",
       " Female   less than or equal to 50,000     9446\n",
       "          greater than 50,000              1162\n",
       " Male     less than or equal to 50,000    14837\n",
       "          greater than 50,000              6533\n",
       "Name: SalStat, dtype: int64"
      ]
     },
     "execution_count": 16,
     "metadata": {},
     "output_type": "execute_result"
    }
   ],
   "source": [
    "df['SalStat'].groupby(df['gender']).value_counts()"
   ]
  },
  {
   "cell_type": "code",
   "execution_count": 17,
   "metadata": {
    "colab": {
     "base_uri": "https://localhost:8080/",
     "height": 569
    },
    "execution": {
     "iopub.execute_input": "2022-03-10T07:04:11.452429Z",
     "iopub.status.busy": "2022-03-10T07:04:11.451305Z",
     "iopub.status.idle": "2022-03-10T07:04:11.688775Z",
     "shell.execute_reply": "2022-03-10T07:04:11.689423Z",
     "shell.execute_reply.started": "2022-03-10T06:19:15.197542Z"
    },
    "id": "ca545edd",
    "outputId": "1b4c2e73-5bf2-4826-bdef-28a8eba8e9b8",
    "papermill": {
     "duration": 0.323319,
     "end_time": "2022-03-10T07:04:11.689624",
     "exception": false,
     "start_time": "2022-03-10T07:04:11.366305",
     "status": "completed"
    },
    "tags": []
   },
   "outputs": [
    {
     "data": {
      "text/plain": [
       "<matplotlib.axes._subplots.AxesSubplot at 0x2634ae16cd0>"
      ]
     },
     "execution_count": 17,
     "metadata": {},
     "output_type": "execute_result"
    },
    {
     "data": {
      "image/png": "[encoded data removed]",
      "text/plain": [
       "<Figure size 720x576 with 1 Axes>"
      ]
     },
     "metadata": {
      "needs_background": "light"
     },
     "output_type": "display_data"
    }
   ],
   "source": [
    "ax, fig = plt.subplots(figsize=[10,8])\n",
    "sns.countplot(df['SalStat'])"
   ]
  },
  {
   "cell_type": "markdown",
   "metadata": {
    "id": "85d0a1b6",
    "papermill": {
     "duration": 0.081831,
     "end_time": "2022-03-10T07:04:11.856626",
     "exception": false,
     "start_time": "2022-03-10T07:04:11.774795",
     "status": "completed"
    },
    "tags": []
   },
   "source": [
    "- 75 % of people's salary status is <=50,000 \n",
    "- 25% of people's salary status is > 50,000"
   ]
  },
  {
   "cell_type": "code",
   "execution_count": 18,
   "metadata": {
    "colab": {
     "base_uri": "https://localhost:8080/",
     "height": 569
    },
    "execution": {
     "iopub.execute_input": "2022-03-10T07:04:12.424867Z",
     "iopub.status.busy": "2022-03-10T07:04:12.423795Z",
     "iopub.status.idle": "2022-03-10T07:04:12.631962Z",
     "shell.execute_reply": "2022-03-10T07:04:12.632453Z",
     "shell.execute_reply.started": "2022-03-10T06:18:48.898348Z"
    },
    "id": "8f600a9b",
    "outputId": "542a9ef8-9e70-4e59-c116-4018e26a4a3c",
    "papermill": {
     "duration": 0.3021,
     "end_time": "2022-03-10T07:04:12.632674",
     "exception": false,
     "start_time": "2022-03-10T07:04:12.330574",
     "status": "completed"
    },
    "tags": []
   },
   "outputs": [
    {
     "data": {
      "text/plain": [
       "<matplotlib.axes._subplots.AxesSubplot at 0x2634d0e97c0>"
      ]
     },
     "execution_count": 18,
     "metadata": {},
     "output_type": "execute_result"
    },
    {
     "data": {
      "image/png": "[encoded data removed]",
      "text/plain": [
       "<Figure size 720x576 with 1 Axes>"
      ]
     },
     "metadata": {
      "needs_background": "light"
     },
     "output_type": "display_data"
    }
   ],
   "source": [
    "ax, fig = plt.subplots(figsize=[10,8])\n",
    "sns.boxplot('SalStat','age',data = df)"
   ]
  },
  {
   "cell_type": "code",
   "execution_count": 19,
   "metadata": {
    "colab": {
     "base_uri": "https://localhost:8080/",
     "height": 569
    },
    "execution": {
     "iopub.execute_input": "2022-03-10T07:04:12.811966Z",
     "iopub.status.busy": "2022-03-10T07:04:12.811214Z",
     "iopub.status.idle": "2022-03-10T07:04:13.061092Z",
     "shell.execute_reply": "2022-03-10T07:04:13.061673Z",
     "shell.execute_reply.started": "2022-03-10T06:18:36.665892Z"
    },
    "id": "f5b66144",
    "outputId": "4435b8fa-150e-4431-82f9-039547c72410",
    "papermill": {
     "duration": 0.340936,
     "end_time": "2022-03-10T07:04:13.061861",
     "exception": false,
     "start_time": "2022-03-10T07:04:12.720925",
     "status": "completed"
    },
    "tags": []
   },
   "outputs": [
    {
     "data": {
      "text/plain": [
       "<matplotlib.axes._subplots.AxesSubplot at 0x2634d17f940>"
      ]
     },
     "execution_count": 19,
     "metadata": {},
     "output_type": "execute_result"
    },
    {
     "data": {
      "image/png": "[encoded data removed]",
      "text/plain": [
       "<Figure size 720x576 with 1 Axes>"
      ]
     },
     "metadata": {
      "needs_background": "light"
     },
     "output_type": "display_data"
    }
   ],
   "source": [
    "ax, fig = plt.subplots(figsize=[10,8])\n",
    "sns.boxplot('SalStat','hoursperweek',data = df)"
   ]
  },
  {
   "cell_type": "markdown",
   "metadata": {
    "id": "425bab55",
    "papermill": {
     "duration": 0.083133,
     "end_time": "2022-03-10T07:04:13.233265",
     "exception": false,
     "start_time": "2022-03-10T07:04:13.150132",
     "status": "completed"
    },
    "tags": []
   },
   "source": [
    "- From the plot it is clearly visible that those who make more than 50000 USD per year are more likely to spend 40-50 hours per week.\n",
    "- This varibale can contribute in classifying the individual's salary staus since there is association between salary status and hours per week."
   ]
  },
  {
   "cell_type": "code",
   "execution_count": 20,
   "metadata": {
    "colab": {
     "base_uri": "https://localhost:8080/"
    },
    "execution": {
     "iopub.execute_input": "2022-03-10T07:04:13.406779Z",
     "iopub.status.busy": "2022-03-10T07:04:13.405716Z",
     "iopub.status.idle": "2022-03-10T07:04:13.480284Z",
     "shell.execute_reply": "2022-03-10T07:04:13.480813Z",
     "shell.execute_reply.started": "2022-03-10T06:07:02.492767Z"
    },
    "id": "ef88a2d2",
    "outputId": "4ca576b3-8f9f-45a0-eced-f41b98e39730",
    "papermill": {
     "duration": 0.163378,
     "end_time": "2022-03-10T07:04:13.481002",
     "exception": false,
     "start_time": "2022-03-10T07:04:13.317624",
     "status": "completed"
    },
    "tags": []
   },
   "outputs": [
    {
     "data": {
      "text/plain": [
       "JobType            SalStat                      \n",
       " Federal-gov        less than or equal to 50,000      578\n",
       "                    greater than 50,000               365\n",
       " Local-gov          less than or equal to 50,000     1458\n",
       "                    greater than 50,000               609\n",
       " Never-worked       less than or equal to 50,000        7\n",
       " Private            less than or equal to 50,000    17410\n",
       "                    greater than 50,000              4876\n",
       " Self-emp-inc       greater than 50,000               600\n",
       "                    less than or equal to 50,000      474\n",
       " Self-emp-not-inc   less than or equal to 50,000     1785\n",
       "                    greater than 50,000               714\n",
       " State-gov          less than or equal to 50,000      935\n",
       "                    greater than 50,000               344\n",
       " Without-pay        less than or equal to 50,000       14\n",
       "Name: SalStat, dtype: int64"
      ]
     },
     "execution_count": 20,
     "metadata": {},
     "output_type": "execute_result"
    }
   ],
   "source": [
    "df['SalStat'].groupby(df['JobType']).value_counts()"
   ]
  },
  {
   "cell_type": "code",
   "execution_count": 21,
   "metadata": {
    "colab": {
     "base_uri": "https://localhost:8080/",
     "height": 442
    },
    "execution": {
     "iopub.execute_input": "2022-03-10T07:04:13.659695Z",
     "iopub.status.busy": "2022-03-10T07:04:13.658949Z",
     "iopub.status.idle": "2022-03-10T07:04:14.018555Z",
     "shell.execute_reply": "2022-03-10T07:04:14.017992Z",
     "shell.execute_reply.started": "2022-03-10T06:17:16.690304Z"
    },
    "id": "24bfebe1",
    "outputId": "00ea07fc-f8dd-463a-9afd-7173862c47dd",
    "papermill": {
     "duration": 0.451001,
     "end_time": "2022-03-10T07:04:14.018709",
     "exception": false,
     "start_time": "2022-03-10T07:04:13.567708",
     "status": "completed"
    },
    "tags": []
   },
   "outputs": [
    {
     "data": {
      "image/png": "[encoded data removed]",
      "text/plain": [
       "<Figure size 1080x504 with 1 Axes>"
      ]
     },
     "metadata": {
      "needs_background": "light"
     },
     "output_type": "display_data"
    }
   ],
   "source": [
    "ax, fig = plt.subplots(figsize=[15,7])\n",
    "JobType   = sns.countplot(y=df['JobType'],hue = 'SalStat', data=df)\n"
   ]
  },
  {
   "cell_type": "markdown",
   "metadata": {
    "id": "e718f4c5",
    "papermill": {
     "duration": 0.087019,
     "end_time": "2022-03-10T07:04:14.192355",
     "exception": false,
     "start_time": "2022-03-10T07:04:14.105336",
     "status": "completed"
    },
    "tags": []
   },
   "source": [
    "-  FRom the above table it is visible that 56% of self employed people earn more than 50000 USD per year.\n",
    "- Hence an importance variable in avoiding the misuse of Subsides."
   ]
  },
  {
   "cell_type": "code",
   "execution_count": 22,
   "metadata": {
    "colab": {
     "base_uri": "https://localhost:8080/"
    },
    "execution": {
     "iopub.execute_input": "2022-03-10T07:04:14.373564Z",
     "iopub.status.busy": "2022-03-10T07:04:14.366861Z",
     "iopub.status.idle": "2022-03-10T07:04:14.444824Z",
     "shell.execute_reply": "2022-03-10T07:04:14.445463Z",
     "shell.execute_reply.started": "2022-03-10T06:10:59.117652Z"
    },
    "id": "7a8b52c6",
    "outputId": "e9bdded2-d962-4f62-caba-b4cf2db6a405",
    "papermill": {
     "duration": 0.169333,
     "end_time": "2022-03-10T07:04:14.445665",
     "exception": false,
     "start_time": "2022-03-10T07:04:14.276332",
     "status": "completed"
    },
    "tags": []
   },
   "outputs": [
    {
     "data": {
      "text/plain": [
       "EdType         SalStat                      \n",
       " 10th           less than or equal to 50,000     860\n",
       "                greater than 50,000               61\n",
       " 11th           less than or equal to 50,000    1108\n",
       "                greater than 50,000               59\n",
       " 12th           less than or equal to 50,000     386\n",
       "                greater than 50,000               31\n",
       " 1st-4th        less than or equal to 50,000     157\n",
       "                greater than 50,000                6\n",
       " 5th-6th        less than or equal to 50,000     304\n",
       "                greater than 50,000               14\n",
       " 7th-8th        less than or equal to 50,000     590\n",
       "                greater than 50,000               37\n",
       " 9th            less than or equal to 50,000     480\n",
       "                greater than 50,000               26\n",
       " Assoc-acdm     less than or equal to 50,000     793\n",
       "                greater than 50,000              262\n",
       " Assoc-voc      less than or equal to 50,000    1009\n",
       "                greater than 50,000              357\n",
       " Bachelors      less than or equal to 50,000    3041\n",
       "                greater than 50,000             2169\n",
       " Doctorate      greater than 50,000              291\n",
       "                less than or equal to 50,000      99\n",
       " HS-grad        less than or equal to 50,000    8706\n",
       "                greater than 50,000             1662\n",
       " Masters        greater than 50,000              936\n",
       "                less than or equal to 50,000     738\n",
       " Preschool      less than or equal to 50,000      50\n",
       " Prof-school    greater than 50,000              414\n",
       "                less than or equal to 50,000     145\n",
       " Some-college   less than or equal to 50,000    5817\n",
       "                greater than 50,000             1370\n",
       "Name: SalStat, dtype: int64"
      ]
     },
     "execution_count": 22,
     "metadata": {},
     "output_type": "execute_result"
    }
   ],
   "source": [
    "df['SalStat'].groupby(df['EdType']).value_counts()"
   ]
  },
  {
   "cell_type": "code",
   "execution_count": 23,
   "metadata": {
    "colab": {
     "base_uri": "https://localhost:8080/",
     "height": 442
    },
    "execution": {
     "iopub.execute_input": "2022-03-10T07:04:14.623083Z",
     "iopub.status.busy": "2022-03-10T07:04:14.622154Z",
     "iopub.status.idle": "2022-03-10T07:04:15.090638Z",
     "shell.execute_reply": "2022-03-10T07:04:15.090041Z",
     "shell.execute_reply.started": "2022-03-10T06:19:34.857685Z"
    },
    "id": "385600c5",
    "outputId": "997a4c10-cee4-491f-ea44-55a23b4b0c6e",
    "papermill": {
     "duration": 0.556831,
     "end_time": "2022-03-10T07:04:15.090792",
     "exception": false,
     "start_time": "2022-03-10T07:04:14.533961",
     "status": "completed"
    },
    "tags": []
   },
   "outputs": [
    {
     "data": {
      "image/png": "[encoded data removed]",
      "text/plain": [
       "<Figure size 1080x504 with 1 Axes>"
      ]
     },
     "metadata": {
      "needs_background": "light"
     },
     "output_type": "display_data"
    }
   ],
   "source": [
    "ax, fig = plt.subplots(figsize=[15,7])\n",
    "Education   = sns.countplot(y=df['EdType'],hue = 'SalStat', data=df)"
   ]
  },
  {
   "cell_type": "markdown",
   "metadata": {
    "id": "3083cd70",
    "papermill": {
     "duration": 0.091067,
     "end_time": "2022-03-10T07:04:15.272422",
     "exception": false,
     "start_time": "2022-03-10T07:04:15.181355",
     "status": "completed"
    },
    "tags": []
   },
   "source": [
    "From the above table we can see that people who have done Doctorate, Masters, Prof-school are more likely to earn above 50000 USD per year when compared with others. Hence an influencing variable in avoiding the misuse of subsidies."
   ]
  },
  {
   "cell_type": "code",
   "execution_count": 24,
   "metadata": {
    "colab": {
     "base_uri": "https://localhost:8080/"
    },
    "execution": {
     "iopub.execute_input": "2022-03-10T07:04:15.457982Z",
     "iopub.status.busy": "2022-03-10T07:04:15.457266Z",
     "iopub.status.idle": "2022-03-10T07:04:15.529993Z",
     "shell.execute_reply": "2022-03-10T07:04:15.530583Z",
     "shell.execute_reply.started": "2022-03-10T06:11:07.839331Z"
    },
    "id": "8e269638",
    "outputId": "dfa8e1fe-3c62-456d-fd99-1a39c6789d9d",
    "papermill": {
     "duration": 0.169277,
     "end_time": "2022-03-10T07:04:15.530762",
     "exception": false,
     "start_time": "2022-03-10T07:04:15.361485",
     "status": "completed"
    },
    "tags": []
   },
   "outputs": [
    {
     "data": {
      "text/plain": [
       "occupation          SalStat                      \n",
       " Adm-clerical        less than or equal to 50,000    3223\n",
       "                     greater than 50,000              498\n",
       " Armed-Forces        less than or equal to 50,000       8\n",
       "                     greater than 50,000                1\n",
       " Craft-repair        less than or equal to 50,000    3122\n",
       "                     greater than 50,000              908\n",
       " Exec-managerial     less than or equal to 50,000    2055\n",
       "                     greater than 50,000             1937\n",
       " Farming-fishing     less than or equal to 50,000     874\n",
       "                     greater than 50,000              115\n",
       " Handlers-cleaners   less than or equal to 50,000    1267\n",
       "                     greater than 50,000               83\n",
       " Machine-op-inspct   less than or equal to 50,000    1721\n",
       "                     greater than 50,000              245\n",
       " Other-service       less than or equal to 50,000    3080\n",
       "                     greater than 50,000              132\n",
       " Priv-house-serv     less than or equal to 50,000     142\n",
       "                     greater than 50,000                1\n",
       " Prof-specialty      less than or equal to 50,000    2227\n",
       "                     greater than 50,000             1811\n",
       " Protective-serv     less than or equal to 50,000     434\n",
       "                     greater than 50,000              210\n",
       " Sales               less than or equal to 50,000    2614\n",
       "                     greater than 50,000              970\n",
       " Tech-support        less than or equal to 50,000     634\n",
       "                     greater than 50,000              278\n",
       " Transport-moving    less than or equal to 50,000    1253\n",
       "                     greater than 50,000              319\n",
       "Name: SalStat, dtype: int64"
      ]
     },
     "execution_count": 24,
     "metadata": {},
     "output_type": "execute_result"
    }
   ],
   "source": [
    "# Occupation\n",
    "df['SalStat'].groupby(df['occupation']).value_counts()"
   ]
  },
  {
   "cell_type": "code",
   "execution_count": 25,
   "metadata": {
    "colab": {
     "base_uri": "https://localhost:8080/",
     "height": 442
    },
    "execution": {
     "iopub.execute_input": "2022-03-10T07:04:15.722001Z",
     "iopub.status.busy": "2022-03-10T07:04:15.721285Z",
     "iopub.status.idle": "2022-03-10T07:04:16.179308Z",
     "shell.execute_reply": "2022-03-10T07:04:16.178428Z",
     "shell.execute_reply.started": "2022-03-10T06:19:41.431212Z"
    },
    "id": "2350dcee",
    "outputId": "662b2285-575d-425a-b1ad-789e1299b00b",
    "papermill": {
     "duration": 0.554369,
     "end_time": "2022-03-10T07:04:16.179486",
     "exception": false,
     "start_time": "2022-03-10T07:04:15.625117",
     "status": "completed"
    },
    "tags": []
   },
   "outputs": [
    {
     "data": {
      "image/png": "[encoded data removed]",
      "text/plain": [
       "<Figure size 1080x504 with 1 Axes>"
      ]
     },
     "metadata": {
      "needs_background": "light"
     },
     "output_type": "display_data"
    }
   ],
   "source": [
    "ax, fig = plt.subplots(figsize=[15,7])\n",
    "Occupation  = sns.countplot(y=df['occupation'],hue = 'SalStat', data=df)"
   ]
  },
  {
   "cell_type": "code",
   "execution_count": 26,
   "metadata": {
    "colab": {
     "base_uri": "https://localhost:8080/"
    },
    "execution": {
     "iopub.execute_input": "2022-03-10T07:04:16.363083Z",
     "iopub.status.busy": "2022-03-10T07:04:16.362256Z",
     "iopub.status.idle": "2022-03-10T07:04:16.371154Z",
     "shell.execute_reply": "2022-03-10T07:04:16.370582Z",
     "shell.execute_reply.started": "2022-03-10T06:11:19.288673Z"
    },
    "id": "8f3ea55a",
    "outputId": "7909d235-0ee0-4492-ce9f-868950b28f03",
    "papermill": {
     "duration": 0.103166,
     "end_time": "2022-03-10T07:04:16.371301",
     "exception": false,
     "start_time": "2022-03-10T07:04:16.268135",
     "status": "completed"
    },
    "tags": []
   },
   "outputs": [
    {
     "data": {
      "text/plain": [
       "SalStat\n",
       " greater than 50,000             44\n",
       " less than or equal to 50,000    34\n",
       "Name: age, dtype: int64"
      ]
     },
     "execution_count": 26,
     "metadata": {},
     "output_type": "execute_result"
    }
   ],
   "source": [
    "# meadian age in respective salary \n",
    "df.groupby('SalStat')['age'].median()"
   ]
  },
  {
   "cell_type": "markdown",
   "metadata": {
    "id": "bbc30468",
    "papermill": {
     "duration": 0.088483,
     "end_time": "2022-03-10T07:04:16.551104",
     "exception": false,
     "start_time": "2022-03-10T07:04:16.462621",
     "status": "completed"
    },
    "tags": []
   },
   "source": [
    "# Data pre-processing for Machine Learning Model"
   ]
  },
  {
   "cell_type": "code",
   "execution_count": 27,
   "metadata": {
    "colab": {
     "base_uri": "https://localhost:8080/"
    },
    "execution": {
     "iopub.execute_input": "2022-03-10T07:04:16.765619Z",
     "iopub.status.busy": "2022-03-10T07:04:16.764844Z",
     "iopub.status.idle": "2022-03-10T07:04:16.778676Z",
     "shell.execute_reply": "2022-03-10T07:04:16.779196Z",
     "shell.execute_reply.started": "2022-03-10T06:11:22.140330Z"
    },
    "id": "efeec51e",
    "outputId": "504d458a-6c79-4633-b587-8108fda3f92b",
    "papermill": {
     "duration": 0.116462,
     "end_time": "2022-03-10T07:04:16.779404",
     "exception": false,
     "start_time": "2022-03-10T07:04:16.662942",
     "status": "completed"
    },
    "tags": []
   },
   "outputs": [
    {
     "name": "stdout",
     "output_type": "stream",
     "text": [
      "0        0\n",
      "1        0\n",
      "2        1\n",
      "3        0\n",
      "4        0\n",
      "        ..\n",
      "31973    0\n",
      "31974    0\n",
      "31975    0\n",
      "31976    0\n",
      "31977    0\n",
      "Name: SalStat, Length: 31978, dtype: int64\n"
     ]
    }
   ],
   "source": [
    "# Reindexing the salary status names to 0,1\n",
    "df['SalStat']=df['SalStat'].map({' less than or equal to 50,000':0,' greater than 50,000':1})\n",
    "\n",
    "print(df['SalStat'])"
   ]
  },
  {
   "cell_type": "code",
   "execution_count": 28,
   "metadata": {
    "execution": {
     "iopub.execute_input": "2022-03-10T07:04:16.964682Z",
     "iopub.status.busy": "2022-03-10T07:04:16.963604Z",
     "iopub.status.idle": "2022-03-10T07:04:17.030072Z",
     "shell.execute_reply": "2022-03-10T07:04:17.029390Z",
     "shell.execute_reply.started": "2022-03-10T06:11:37.304922Z"
    },
    "id": "57a9540a",
    "papermill": {
     "duration": 0.160189,
     "end_time": "2022-03-10T07:04:17.030224",
     "exception": false,
     "start_time": "2022-03-10T07:04:16.870035",
     "status": "completed"
    },
    "tags": []
   },
   "outputs": [],
   "source": [
    "df= pd.get_dummies(df, drop_first=True)\n",
    "\n",
    "# Storing the column names \n",
    "columns_list=list(df.columns)\n",
    "\n",
    "# Separating the input names from data\n",
    "features=list(set(columns_list)-set(['SalStat']))"
   ]
  },
  {
   "cell_type": "code",
   "execution_count": 29,
   "metadata": {
    "colab": {
     "base_uri": "https://localhost:8080/"
    },
    "execution": {
     "iopub.execute_input": "2022-03-10T07:04:17.219237Z",
     "iopub.status.busy": "2022-03-10T07:04:17.218523Z",
     "iopub.status.idle": "2022-03-10T07:04:17.222597Z",
     "shell.execute_reply": "2022-03-10T07:04:17.223444Z",
     "shell.execute_reply.started": "2022-03-10T06:11:41.815146Z"
    },
    "id": "bc60c803",
    "outputId": "5fd91a4c-724c-4683-8771-ef99001f35a6",
    "papermill": {
     "duration": 0.101072,
     "end_time": "2022-03-10T07:04:17.223705",
     "exception": false,
     "start_time": "2022-03-10T07:04:17.122633",
     "status": "completed"
    },
    "tags": []
   },
   "outputs": [
    {
     "name": "stdout",
     "output_type": "stream",
     "text": [
      "[0 0 1 ... 0 0 0]\n"
     ]
    }
   ],
   "source": [
    "# Storing the output values in y\n",
    "y=df['SalStat'].values\n",
    "print(y)"
   ]
  },
  {
   "cell_type": "code",
   "execution_count": 30,
   "metadata": {
    "colab": {
     "base_uri": "https://localhost:8080/"
    },
    "execution": {
     "iopub.execute_input": "2022-03-10T07:04:17.416224Z",
     "iopub.status.busy": "2022-03-10T07:04:17.415405Z",
     "iopub.status.idle": "2022-03-10T07:04:17.439787Z",
     "shell.execute_reply": "2022-03-10T07:04:17.438318Z",
     "shell.execute_reply.started": "2022-03-10T06:11:44.807238Z"
    },
    "id": "82c0bb3a",
    "outputId": "3e668a32-2e38-4de0-fa43-fe382476473b",
    "papermill": {
     "duration": 0.124621,
     "end_time": "2022-03-10T07:04:17.440143",
     "exception": false,
     "start_time": "2022-03-10T07:04:17.315522",
     "status": "completed"
    },
    "tags": []
   },
   "outputs": [
    {
     "name": "stdout",
     "output_type": "stream",
     "text": [
      "[[ 1 28  0 ...  0  1  0]\n",
      " [ 1 40  0 ...  0  1  1]\n",
      " [ 1 40  0 ...  0  1  0]\n",
      " ...\n",
      " [ 1 40  0 ...  0  1  0]\n",
      " [ 1 40  0 ...  0  1  0]\n",
      " [ 1 40  0 ...  0  1  0]]\n"
     ]
    }
   ],
   "source": [
    "# Storing the values from input features\n",
    "x = df[features].values\n",
    "print(x)"
   ]
  },
  {
   "cell_type": "code",
   "execution_count": 31,
   "metadata": {
    "execution": {
     "iopub.execute_input": "2022-03-10T07:04:18.329237Z",
     "iopub.status.busy": "2022-03-10T07:04:18.328201Z",
     "iopub.status.idle": "2022-03-10T07:04:18.370442Z",
     "shell.execute_reply": "2022-03-10T07:04:18.371022Z",
     "shell.execute_reply.started": "2022-03-10T06:29:05.187751Z"
    },
    "id": "a9978511",
    "papermill": {
     "duration": 0.14025,
     "end_time": "2022-03-10T07:04:18.371205",
     "exception": false,
     "start_time": "2022-03-10T07:04:18.230955",
     "status": "completed"
    },
    "tags": []
   },
   "outputs": [],
   "source": [
    "train_x,test_x,train_y,test_y = train_test_split(x,y,test_size=0.3, random_state=0)"
   ]
  },
  {
   "cell_type": "markdown",
   "metadata": {
    "id": "208a90f6",
    "papermill": {
     "duration": 0.093381,
     "end_time": "2022-03-10T07:04:18.560112",
     "exception": false,
     "start_time": "2022-03-10T07:04:18.466731",
     "status": "completed"
    },
    "tags": []
   },
   "source": [
    "# Machine Learning Models \n",
    "##  LogisticRegression"
   ]
  },
  {
   "cell_type": "code",
   "execution_count": 32,
   "metadata": {
    "colab": {
     "base_uri": "https://localhost:8080/"
    },
    "execution": {
     "iopub.execute_input": "2022-03-10T07:04:18.754345Z",
     "iopub.status.busy": "2022-03-10T07:04:18.753312Z",
     "iopub.status.idle": "2022-03-10T07:04:18.953358Z",
     "shell.execute_reply": "2022-03-10T07:04:18.954254Z",
     "shell.execute_reply.started": "2022-03-10T06:29:07.487367Z"
    },
    "id": "b5fa2154",
    "outputId": "bb992d10-efb9-402d-eca5-b35ec7db124a",
    "papermill": {
     "duration": 0.29828,
     "end_time": "2022-03-10T07:04:18.954600",
     "exception": false,
     "start_time": "2022-03-10T07:04:18.656320",
     "status": "completed"
    },
    "tags": []
   },
   "outputs": [
    {
     "name": "stdout",
     "output_type": "stream",
     "text": [
      "[0 0 0 ... 0 0 0]\n"
     ]
    },
    {
     "name": "stderr",
     "output_type": "stream",
     "text": [
      "C:\\Users\\20jai\\anaconda3\\lib\\site-packages\\sklearn\\linear_model\\_logistic.py:762: ConvergenceWarning: lbfgs failed to converge (status=1):\n",
      "STOP: TOTAL NO. of ITERATIONS REACHED LIMIT.\n",
      "\n",
      "Increase the number of iterations (max_iter) or scale the data as shown in:\n",
      "    https://scikit-learn.org/stable/modules/preprocessing.html\n",
      "Please also refer to the documentation for alternative solver options:\n",
      "    https://scikit-learn.org/stable/modules/linear_model.html#logistic-regression\n",
      "  n_iter_i = _check_optimize_result(\n"
     ]
    }
   ],
   "source": [
    "logistic_model = LogisticRegression()\n",
    "\n",
    "# Fitting the values for x and y\n",
    "logistic_model.fit(train_x,train_y)\n",
    "\n",
    "\n",
    "# Prediction from test data\n",
    "prediction_log = logistic_model.predict(test_x)\n",
    "print(prediction_log)"
   ]
  },
  {
   "cell_type": "code",
   "execution_count": 33,
   "metadata": {
    "colab": {
     "base_uri": "https://localhost:8080/"
    },
    "execution": {
     "iopub.execute_input": "2022-03-10T07:04:19.414762Z",
     "iopub.status.busy": "2022-03-10T07:04:19.413311Z",
     "iopub.status.idle": "2022-03-10T07:04:19.419870Z",
     "shell.execute_reply": "2022-03-10T07:04:19.420458Z",
     "shell.execute_reply.started": "2022-03-10T06:29:16.599281Z"
    },
    "id": "ee9b4115",
    "outputId": "ef116f1d-daa0-46a4-b7c5-92e1ceed0add",
    "papermill": {
     "duration": 0.104224,
     "end_time": "2022-03-10T07:04:19.420664",
     "exception": false,
     "start_time": "2022-03-10T07:04:19.316440",
     "status": "completed"
    },
    "tags": []
   },
   "outputs": [
    {
     "name": "stdout",
     "output_type": "stream",
     "text": [
      "84.91765686887638\n"
     ]
    }
   ],
   "source": [
    "# Calculating the accuracy\n",
    "accuracy_score_log =accuracy_score(test_y, prediction_log)\n",
    "print(accuracy_score_log * 100)"
   ]
  },
  {
   "cell_type": "code",
   "execution_count": 34,
   "metadata": {
    "colab": {
     "base_uri": "https://localhost:8080/",
     "height": 405
    },
    "id": "YJq79B6gr2B3",
    "outputId": "d723aaa0-c3bd-41c6-af24-5e4aec222653"
   },
   "outputs": [
    {
     "data": {
      "text/plain": [
       "<sklearn.metrics._plot.confusion_matrix.ConfusionMatrixDisplay at 0x2634d7dbc40>"
      ]
     },
     "execution_count": 34,
     "metadata": {},
     "output_type": "execute_result"
    },
    {
     "data": {
      "image/png": "[encoded data removed]",
      "text/plain": [
       "<Figure size 576x432 with 2 Axes>"
      ]
     },
     "metadata": {
      "needs_background": "light"
     },
     "output_type": "display_data"
    }
   ],
   "source": [
    "cm = confusion_matrix(test_y, prediction_log.reshape(-1,1), normalize='true')\n",
    "disp = ConfusionMatrixDisplay(confusion_matrix=cm)\n",
    "fig, ax = plt.subplots(figsize=(8,6))\n",
    "disp.plot(ax=ax,cmap='Greens')"
   ]
  },
  {
   "cell_type": "markdown",
   "metadata": {
    "id": "FTgqhd0JsViq"
   },
   "source": [
    "### **KNN**"
   ]
  },
  {
   "cell_type": "code",
   "execution_count": 40,
   "metadata": {
    "execution": {
     "iopub.execute_input": "2022-03-10T07:04:20.007198Z",
     "iopub.status.busy": "2022-03-10T07:04:20.006088Z",
     "iopub.status.idle": "2022-03-10T07:04:28.515916Z",
     "shell.execute_reply": "2022-03-10T07:04:28.515316Z",
     "shell.execute_reply.started": "2022-03-10T06:39:13.439003Z"
    },
    "id": "dd473b1e",
    "papermill": {
     "duration": 8.609193,
     "end_time": "2022-03-10T07:04:28.516072",
     "exception": false,
     "start_time": "2022-03-10T07:04:19.906879",
     "status": "completed"
    },
    "tags": []
   },
   "outputs": [],
   "source": [
    "# Storing the K nearest neighbors classifier\n",
    "KNN_classifier = KNeighborsClassifier(n_neighbors = 16)\n",
    "\n",
    "# Fitting the values for X and Y\n",
    "KNN_classifier.fit(train_x, train_y) \n",
    "\n",
    "# Predicting the test values with model\n",
    "prediction_knn= KNN_classifier.predict(test_x)"
   ]
  },
  {
   "cell_type": "code",
   "execution_count": 41,
   "metadata": {
    "colab": {
     "base_uri": "https://localhost:8080/"
    },
    "execution": {
     "iopub.execute_input": "2022-03-10T07:04:28.926110Z",
     "iopub.status.busy": "2022-03-10T07:04:28.925350Z",
     "iopub.status.idle": "2022-03-10T07:04:28.930782Z",
     "shell.execute_reply": "2022-03-10T07:04:28.931257Z",
     "shell.execute_reply.started": "2022-03-10T06:39:29.854242Z"
    },
    "id": "337f9f72",
    "outputId": "2d8fe523-afc7-4b3b-c009-8a85d4432bb2",
    "papermill": {
     "duration": 0.10811,
     "end_time": "2022-03-10T07:04:28.931450",
     "exception": false,
     "start_time": "2022-03-10T07:04:28.823340",
     "status": "completed"
    },
    "tags": []
   },
   "outputs": [
    {
     "name": "stdout",
     "output_type": "stream",
     "text": [
      "85.14696685428392\n"
     ]
    }
   ],
   "source": [
    "# Calculating the accuracy\n",
    "accuracy_score_knn = accuracy_score(test_y, prediction_knn)\n",
    "print(accuracy_score_knn * 100)"
   ]
  },
  {
   "cell_type": "code",
   "execution_count": 43,
   "metadata": {
    "colab": {
     "base_uri": "https://localhost:8080/",
     "height": 405
    },
    "id": "jEU-bESVCKaO",
    "outputId": "b4e52715-78f6-4ae9-cd40-a16e600fabcf"
   },
   "outputs": [
    {
     "data": {
      "text/plain": [
       "<sklearn.metrics._plot.confusion_matrix.ConfusionMatrixDisplay at 0x2634d1867f0>"
      ]
     },
     "execution_count": 43,
     "metadata": {},
     "output_type": "execute_result"
    },
    {
     "data": {
      "image/png": "[encoded data removed]",
      "text/plain": [
       "<Figure size 576x432 with 2 Axes>"
      ]
     },
     "metadata": {
      "needs_background": "light"
     },
     "output_type": "display_data"
    }
   ],
   "source": [
    "cm = confusion_matrix(test_y, prediction_knn.reshape(-1,1), normalize='true')\n",
    "disp = ConfusionMatrixDisplay(confusion_matrix=cm)\n",
    "fig, ax = plt.subplots(figsize=(8,6))\n",
    "disp.plot(ax=ax,cmap='Blues')"
   ]
  },
  {
   "cell_type": "markdown",
   "metadata": {
    "id": "Zf8uUvAFWjA1"
   },
   "source": [
    "***DECISION TREE***\n",
    "\n"
   ]
  },
  {
   "cell_type": "code",
   "execution_count": 44,
   "metadata": {
    "id": "PPKx0PtBeaY1"
   },
   "outputs": [],
   "source": [
    "#confusion matrix\n",
    "from sklearn.metrics import classification_report, confusion_matrix, accuracy_score\n",
    "def my_confusion_matrix(y_test, y_pred, plt_title):\n",
    "    cm=confusion_matrix(y_test, y_pred)\n",
    "    print(classification_report(y_test, y_pred))\n",
    "    sns.heatmap(cm, annot=True, fmt='g', cbar=False, cmap='BuPu')\n",
    "    plt.xlabel('Predicted Values')\n",
    "    plt.ylabel('Actual Values')\n",
    "    plt.title(plt_title)\n",
    "    plt.show()\n",
    "    return cm"
   ]
  },
  {
   "cell_type": "code",
   "execution_count": 45,
   "metadata": {
    "id": "HPMp75nzWgG0"
   },
   "outputs": [],
   "source": [
    "from sklearn.tree import DecisionTreeClassifier\n",
    "dt = DecisionTreeClassifier(random_state=101)\n",
    "dt_model = dt.fit(train_x,train_y)"
   ]
  },
  {
   "cell_type": "code",
   "execution_count": 46,
   "metadata": {
    "id": "jlHbivmOaSc2"
   },
   "outputs": [],
   "source": [
    "y_pred_dt = dt.predict(test_x)"
   ]
  },
  {
   "cell_type": "code",
   "execution_count": 47,
   "metadata": {
    "colab": {
     "base_uri": "https://localhost:8080/"
    },
    "id": "xQjAGH5tadeq",
    "outputId": "162e909e-da85-45b5-d403-c7792334c0ba"
   },
   "outputs": [
    {
     "data": {
      "text/plain": [
       "DecisionTreeClassifier(random_state=101)"
      ]
     },
     "execution_count": 47,
     "metadata": {},
     "output_type": "execute_result"
    }
   ],
   "source": [
    "dt_model"
   ]
  },
  {
   "cell_type": "code",
   "execution_count": 48,
   "metadata": {
    "colab": {
     "base_uri": "https://localhost:8080/",
     "height": 469
    },
    "id": "8UmzzVaEeWvP",
    "outputId": "0105cdc0-7bb5-4a61-9e20-b0fef3c5a7b7"
   },
   "outputs": [
    {
     "name": "stdout",
     "output_type": "stream",
     "text": [
      "Decision Tree Accuracy Score:  0.8154054617469252\n",
      "              precision    recall  f1-score   support\n",
      "\n",
      "           0       0.88      0.88      0.88      7336\n",
      "           1       0.61      0.60      0.61      2258\n",
      "\n",
      "    accuracy                           0.82      9594\n",
      "   macro avg       0.74      0.74      0.74      9594\n",
      "weighted avg       0.81      0.82      0.82      9594\n",
      "\n"
     ]
    },
    {
     "data": {
      "image/png": "[encoded data removed]",
      "text/plain": [
       "<Figure size 432x288 with 1 Axes>"
      ]
     },
     "metadata": {
      "needs_background": "light"
     },
     "output_type": "display_data"
    }
   ],
   "source": [
    "print('Decision Tree Accuracy Score: ',accuracy_score(test_y,y_pred_dt))\n",
    "cm_rfc=my_confusion_matrix(test_y, y_pred_dt, 'Decision Tree Confusion Matrix')"
   ]
  },
  {
   "cell_type": "code",
   "execution_count": 49,
   "metadata": {
    "colab": {
     "base_uri": "https://localhost:8080/"
    },
    "id": "0RZWMOo8emiL",
    "outputId": "cab37c8c-811e-480e-ded4-9c1c2ad19d4b"
   },
   "outputs": [
    {
     "name": "stdout",
     "output_type": "stream",
     "text": [
      "              precision    recall  f1-score   support\n",
      "\n",
      "           0       0.88      0.88      0.88      7336\n",
      "           1       0.61      0.60      0.61      2258\n",
      "\n",
      "    accuracy                           0.82      9594\n",
      "   macro avg       0.74      0.74      0.74      9594\n",
      "weighted avg       0.81      0.82      0.82      9594\n",
      "\n"
     ]
    }
   ],
   "source": [
    "print(metrics.classification_report(test_y, y_pred_dt)) "
   ]
  },
  {
   "cell_type": "code",
   "execution_count": 50,
   "metadata": {
    "colab": {
     "base_uri": "https://localhost:8080/"
    },
    "id": "eew1aYw6fcqQ",
    "outputId": "eb3de60b-f848-4140-a390-db87f980c92b"
   },
   "outputs": [
    {
     "data": {
      "text/plain": [
       "0.8154054617469252"
      ]
     },
     "execution_count": 50,
     "metadata": {},
     "output_type": "execute_result"
    }
   ],
   "source": [
    "acc_dt = metrics.accuracy_score(test_y, y_pred_dt)\n",
    "acc_dt"
   ]
  },
  {
   "cell_type": "markdown",
   "metadata": {
    "id": "KGG22iOafjMu"
   },
   "source": [
    "***RANDOM FOREST***"
   ]
  },
  {
   "cell_type": "code",
   "execution_count": 51,
   "metadata": {
    "id": "eBPTvMdxfhrG"
   },
   "outputs": [],
   "source": [
    "rf = RandomForestClassifier(n_estimators = 100, random_state=101, criterion = 'entropy', oob_score = True) \n",
    "model_rf = rf.fit(train_x,train_y)"
   ]
  },
  {
   "cell_type": "code",
   "execution_count": 52,
   "metadata": {
    "id": "1aT9GKmjfrg5"
   },
   "outputs": [],
   "source": [
    "y_pred_rf = rf.predict(test_x) "
   ]
  },
  {
   "cell_type": "code",
   "execution_count": 53,
   "metadata": {
    "colab": {
     "base_uri": "https://localhost:8080/"
    },
    "id": "wci-EODjfwx6",
    "outputId": "67540b25-aebd-429a-b425-4d222af6a028"
   },
   "outputs": [
    {
     "name": "stdout",
     "output_type": "stream",
     "text": [
      "[[6741  595]\n",
      " [ 872 1386]]\n"
     ]
    }
   ],
   "source": [
    "print(metrics.confusion_matrix(test_y, y_pred_rf)) "
   ]
  },
  {
   "cell_type": "code",
   "execution_count": 54,
   "metadata": {
    "id": "wl29-SckgLp9"
   },
   "outputs": [],
   "source": [
    "from sklearn.ensemble import RandomForestClassifier\n",
    "rfc=RandomForestClassifier(bootstrap= True,\n",
    "                           max_depth= 7,\n",
    "                           max_features= 15,\n",
    "                           min_samples_leaf= 3,\n",
    "                           min_samples_split= 10,\n",
    "                           n_estimators= 200,\n",
    "                           random_state=7)"
   ]
  },
  {
   "cell_type": "code",
   "execution_count": 55,
   "metadata": {
    "id": "ew8E-obGgJGY"
   },
   "outputs": [],
   "source": [
    "rfc.fit(train_x,train_y)\n",
    "y_pred_rfc=rfc.predict(test_x)"
   ]
  },
  {
   "cell_type": "code",
   "execution_count": 56,
   "metadata": {
    "colab": {
     "base_uri": "https://localhost:8080/",
     "height": 469
    },
    "id": "ep_zCrHxf5c3",
    "outputId": "19261dd8-64eb-4374-fa95-efc53d046155"
   },
   "outputs": [
    {
     "name": "stdout",
     "output_type": "stream",
     "text": [
      "Random Forest Classifier Accuracy Score:  0.8595997498436523\n",
      "              precision    recall  f1-score   support\n",
      "\n",
      "           0       0.87      0.97      0.91      7336\n",
      "           1       0.83      0.51      0.63      2258\n",
      "\n",
      "    accuracy                           0.86      9594\n",
      "   macro avg       0.85      0.74      0.77      9594\n",
      "weighted avg       0.86      0.86      0.85      9594\n",
      "\n"
     ]
    },
    {
     "data": {
      "image/png": "[encoded data removed]",
      "text/plain": [
       "<Figure size 432x288 with 1 Axes>"
      ]
     },
     "metadata": {
      "needs_background": "light"
     },
     "output_type": "display_data"
    }
   ],
   "source": [
    "print('Random Forest Classifier Accuracy Score: ',accuracy_score(test_y,y_pred_rfc))\n",
    "cm_rfc=my_confusion_matrix(test_y, y_pred_rfc, 'Random Forest Confusion Matrix')"
   ]
  },
  {
   "cell_type": "markdown",
   "metadata": {
    "id": "vmIQ7VSqgbxR"
   },
   "source": [
    "**SVM Suppoort Vector Machine** "
   ]
  },
  {
   "cell_type": "code",
   "execution_count": 57,
   "metadata": {
    "id": "1q0N5Cpjgo-M"
   },
   "outputs": [],
   "source": [
    "from sklearn import svm\n",
    "svm_clf = svm.SVC(decision_function_shape='ovo')"
   ]
  },
  {
   "cell_type": "code",
   "execution_count": 58,
   "metadata": {
    "id": "jNca141zgvlU"
   },
   "outputs": [],
   "source": [
    "svm_clf.fit(train_x,train_y)\n",
    "y_pred_svm=svm_clf.predict(test_x)"
   ]
  },
  {
   "cell_type": "code",
   "execution_count": 59,
   "metadata": {
    "colab": {
     "base_uri": "https://localhost:8080/",
     "height": 469
    },
    "id": "bB51UYHwhGTU",
    "outputId": "f8e27ff9-961e-47bd-fd9e-57b4a7c651a8"
   },
   "outputs": [
    {
     "name": "stdout",
     "output_type": "stream",
     "text": [
      "SVM Classifier Accuracy Score:  0.8062330623306233\n",
      "              precision    recall  f1-score   support\n",
      "\n",
      "           0       0.81      0.97      0.88      7336\n",
      "           1       0.73      0.28      0.40      2258\n",
      "\n",
      "    accuracy                           0.81      9594\n",
      "   macro avg       0.77      0.62      0.64      9594\n",
      "weighted avg       0.79      0.81      0.77      9594\n",
      "\n"
     ]
    },
    {
     "data": {
      "image/png": "[encoded data removed]",
      "text/plain": [
       "<Figure size 432x288 with 1 Axes>"
      ]
     },
     "metadata": {
      "needs_background": "light"
     },
     "output_type": "display_data"
    }
   ],
   "source": [
    "print('SVM Classifier Accuracy Score: ',accuracy_score(test_y,y_pred_svm))\n",
    "cm_rfc=my_confusion_matrix(test_y, y_pred_svm, 'SVM Confusion Matrix')"
   ]
  },
  {
   "cell_type": "markdown",
   "metadata": {
    "id": "uOLHrEy_l-_y"
   },
   "source": []
  },
  {
   "cell_type": "markdown",
   "metadata": {
    "id": "fRBxYWf-irGf"
   },
   "source": [
    "**Naive Bayes**"
   ]
  },
  {
   "cell_type": "code",
   "execution_count": 60,
   "metadata": {
    "id": "k9K-btBGiqbz"
   },
   "outputs": [],
   "source": [
    "from sklearn.preprocessing import StandardScaler  \n",
    "sc = StandardScaler()  \n",
    "x_train = sc.fit_transform(train_x)  \n",
    "x_test = sc.transform(test_x)  "
   ]
  },
  {
   "cell_type": "code",
   "execution_count": 61,
   "metadata": {
    "colab": {
     "base_uri": "https://localhost:8080/"
    },
    "id": "vI-l8yKljqeo",
    "outputId": "2051c81e-ec8b-4323-ff7f-13a8777a9e32"
   },
   "outputs": [
    {
     "data": {
      "text/plain": [
       "GaussianNB()"
      ]
     },
     "execution_count": 61,
     "metadata": {},
     "output_type": "execute_result"
    }
   ],
   "source": [
    "from sklearn.naive_bayes import GaussianNB  \n",
    "classifier = GaussianNB()  \n",
    "classifier.fit(train_x,train_y) "
   ]
  },
  {
   "cell_type": "code",
   "execution_count": 62,
   "metadata": {
    "id": "8wkOZru6j2JM"
   },
   "outputs": [],
   "source": [
    "y_pred_nv = classifier.predict(test_x)  "
   ]
  },
  {
   "cell_type": "code",
   "execution_count": 63,
   "metadata": {
    "id": "5LKhwI_Cj7T2"
   },
   "outputs": [],
   "source": [
    "from sklearn.metrics import confusion_matrix  \n",
    "cm = confusion_matrix(test_y, y_pred_nv)  "
   ]
  },
  {
   "cell_type": "code",
   "execution_count": 64,
   "metadata": {
    "colab": {
     "base_uri": "https://localhost:8080/",
     "height": 469
    },
    "id": "X3Bb_Lr2mHbp",
    "outputId": "ea4588b6-9da0-42d0-d1ce-dd5fb43960f5"
   },
   "outputs": [
    {
     "name": "stdout",
     "output_type": "stream",
     "text": [
      "Naive Bayes Accuracy Score:  0.8274963518865958\n",
      "              precision    recall  f1-score   support\n",
      "\n",
      "           0       0.92      0.85      0.88      7336\n",
      "           1       0.61      0.74      0.67      2258\n",
      "\n",
      "    accuracy                           0.83      9594\n",
      "   macro avg       0.76      0.80      0.78      9594\n",
      "weighted avg       0.84      0.83      0.83      9594\n",
      "\n"
     ]
    },
    {
     "data": {
      "image/png": "[encoded data removed]",
      "text/plain": [
       "<Figure size 432x288 with 1 Axes>"
      ]
     },
     "metadata": {
      "needs_background": "light"
     },
     "output_type": "display_data"
    }
   ],
   "source": [
    "print('Naive Bayes Accuracy Score: ',accuracy_score(test_y,y_pred_nv))\n",
    "cm_rfc=my_confusion_matrix(test_y, y_pred_nv, 'Naive Bayes Matrix')"
   ]
  },
  {
   "cell_type": "code",
   "execution_count": 68,
   "metadata": {
    "colab": {
     "base_uri": "https://localhost:8080/",
     "height": 282
    },
    "id": "g4FdV5X5h2g2",
    "outputId": "d76d39db-a47d-4030-af90-f789e2fcf1b4"
   },
   "outputs": [
    {
     "data": {
      "image/png": "[encoded data removed]",
      "text/plain": [
       "<Figure size 432x288 with 1 Axes>"
      ]
     },
     "metadata": {
      "needs_background": "light"
     },
     "output_type": "display_data"
    }
   ],
   "source": [
    "models = ['logistic regression', 'decision tree', 'random forest', 'knn','SVM','naive_Bayes']\n",
    "acc_scores = [0.85,0.82,0.86,0.8629,0.81,0.83]\n",
    "\n",
    "plt.bar(models, acc_scores, color=['blue', 'green', 'red', 'cyan','pink','purple'])\n",
    "plt.ylabel(\"accuracy scores\")\n",
    "plt.title(\"Which model is the most accurate?\")\n",
    "plt.show()"
   ]
  },
  {
   "cell_type": "markdown",
   "metadata": {},
   "source": [
    "<h6>Therefore the KNN model provides the most efficient result with 86.269%.</h6>"
   ]
  },
  {
   "cell_type": "markdown",
   "metadata": {},
   "source": [
    "<h6>MADE BY: SAMBHAV JAIN</h6>"
   ]
  },
  {
   "cell_type": "code",
   "execution_count": null,
   "metadata": {},
   "outputs": [],
   "source": []
  }
 ],
 "metadata": {
  "colab": {
   "collapsed_sections": [],
   "name": "DS-PROJECT-106.ipynb",
   "provenance": []
  },
  "kernelspec": {
   "display_name": "Python 3",
   "language": "python",
   "name": "python3"
  },
  "language_info": {
   "codemirror_mode": {
    "name": "ipython",
    "version": 3
   },
   "file_extension": ".py",
   "mimetype": "text/x-python",
   "name": "python",
   "nbconvert_exporter": "python",
   "pygments_lexer": "ipython3",
   "version": "3.8.3"
  }
 },
 "nbformat": 4,
 "nbformat_minor": 1
}
